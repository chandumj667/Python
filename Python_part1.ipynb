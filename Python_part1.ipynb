{
 "cells": [
  {
   "cell_type": "markdown",
   "id": "c4c630d7",
   "metadata": {},
   "source": [
    "Intro, Syntax, Comments, Basics, Variables, Data types, Operators \n",
    "Lists, Tuples, Sets, Dictionaries\n",
    "If else, for loops, while loops \n",
    "Functions, lambda functions\n",
    "Classes objects, Inheritance, Polymorphism, Iteraters, Scope, Modules\\n\n",
    "RegEX, String Formatting, Exceptional Handling, File Handling\\n\n",
    "Python-mongoDB, Python-Libraries\\n\n"
   ]
  },
  {
   "cell_type": "code",
   "execution_count": null,
   "id": "c60ee036",
   "metadata": {},
   "outputs": [],
   "source": []
  }
 ],
 "metadata": {
  "kernelspec": {
   "display_name": "Python 3 (ipykernel)",
   "language": "python",
   "name": "python3"
  },
  "language_info": {
   "codemirror_mode": {
    "name": "ipython",
    "version": 3
   },
   "file_extension": ".py",
   "mimetype": "text/x-python",
   "name": "python",
   "nbconvert_exporter": "python",
   "pygments_lexer": "ipython3",
   "version": "3.11.4"
  }
 },
 "nbformat": 4,
 "nbformat_minor": 5
}
