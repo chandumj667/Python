{
 "cells": [
  {
   "cell_type": "markdown",
   "id": "1a4a5a48",
   "metadata": {},
   "source": [
    "# Lists [] and Operations "
   ]
  },
  {
   "cell_type": "markdown",
   "id": "ee5b7925",
   "metadata": {},
   "source": [
    "List is a datastructure that stores elements/values in an order.\n",
    "we can easily access the elements using their index values.\n",
    "List are mutable, we can store different data types in it."
   ]
  },
  {
   "cell_type": "code",
   "execution_count": 29,
   "id": "8750ed71",
   "metadata": {},
   "outputs": [
    {
     "name": "stdout",
     "output_type": "stream",
     "text": [
      "['apple', 'banana', 'grapes', 'strawberry', 'avacado']\n",
      "[123, 34.23, True, 'apple']\n"
     ]
    }
   ],
   "source": [
    "lst1 = ['apple', 'banana', 'grapes', 'strawberry', 'avacado']\n",
    "print(lst1)\n",
    "lst2 = [123, 34.23, True, 'apple']\n",
    "print(lst2)"
   ]
  },
  {
   "cell_type": "code",
   "execution_count": 30,
   "id": "71c4014d",
   "metadata": {},
   "outputs": [
    {
     "name": "stdout",
     "output_type": "stream",
     "text": [
      "5\n",
      "4\n",
      "new_lst: ['1', '2', '3'] and it is a type of <class 'list'>\n",
      "banana\n",
      "avacado\n",
      "['banana', 'grapes', 'strawberry', 'avacado']\n",
      "['apple', 'banana', 'grapes', 'strawberry']\n",
      "['banana', 'grapes', 'strawberry']\n",
      "['banana', 'grapes', 'strawberry', 'avacado']\n"
     ]
    }
   ],
   "source": [
    "# len() : to find the length of the list\n",
    "print(len(lst1))\n",
    "print(len(lst2))\n",
    "\n",
    "# list constructor : we can conver or declare the anytype of data into a list\n",
    "new_lst = list((\"1\", \"2\", \"3\"))\n",
    "print(f\"new_lst: {new_lst} and it is a type of {type(new_lst)}\")\n",
    "\n",
    "\n",
    "# accessing list elements\n",
    "print(lst1[1]) #the indexing is starts from 0\n",
    "print(lst1[-1]) # using negative indexing we can access the elements from the end of the list\n",
    "# print(lst1[start_index:end_index]) in between the start_index and end_index we can access the elements\n",
    "print(lst1[1:5])\n",
    "print(lst1[:4])\n",
    "print(lst1[-4:-1])\n",
    "print(lst1[-4:])\n",
    "\n"
   ]
  },
  {
   "cell_type": "markdown",
   "id": "793c20cf",
   "metadata": {},
   "source": [
    "### changing the elements in the list "
   ]
  },
  {
   "cell_type": "code",
   "execution_count": 32,
   "id": "c8dd68fc",
   "metadata": {},
   "outputs": [
    {
     "name": "stdout",
     "output_type": "stream",
     "text": [
      "['Sai', 'Chandu', 'Krishna', 'Jagadeesh', 'Swamy', 'Narsi', 'Sandy']\n",
      "['Sai', 'Chandra Sai', 'Krishna', 'Jagadeesh', 'Swamy', 'Narsi', 'Sandy']\n",
      "['Sai', 'Hari', 'Ram', 'Abhi', 'Swamy', 'Narsi', 'Sandy']\n",
      "['Sai', 'Hari', 'Ram', 'Abhi', 'Swamy', 'Narsi', 'Sandy', 'Subbhu']\n",
      "['Sai', 'Hari', 'Sahith', 'Ram', 'Abhi', 'Swamy', 'Narsi', 'Sandy', 'Subbhu']\n",
      "['Sai', 'Hari', 'Sahith', 'Ram', 'Abhi', 'Swamy', 'Narsi', 'Sandy', 'Subbhu', ['Gopi', 'Balu']]\n",
      "['apple', 'banana', 'grapes', 'strawberry', 'avacado', 123, 34.23, True, 'apple', 'apple', 'banana', 'grapes', 'strawberry']\n",
      "[123, 34.23, True, 'apple', 'apple', 'banana', 'grapes', 'strawberry', 'apple', 'banana', 'grapes', 'strawberry', 'avacado']\n",
      "[123, 34.23, True, 'apple', 'apple', 'banana', 'grapes', 'strawberry', 'apple', 'banana', 'grapes', 'strawberry']\n",
      "\n",
      " ['Sai', 'Hari', 'Sahith', 'Ram', 'Abhi', 'Swamy', 'Narsi', 'Sandy', 'Subbhu', ['Gopi', 'Balu']]\n",
      "['Sai', 'Hari', 'Ram', 'Abhi', 'Swamy', 'Narsi', 'Sandy', 'Subbhu', ['Gopi', 'Balu']]\n",
      "\n",
      " ['apple', 'banana', 'grapes', 'strawberry', 'avacado', 123, 34.23, True, 'apple', 'apple', 'banana', 'grapes', 'strawberry']\n",
      "[]\n"
     ]
    }
   ],
   "source": [
    "names =[\"Sai\", \"Chandu\", \"Krishna\", \"Jagadeesh\", \"Swamy\", \"Narsi\", \"Sandy\"]\n",
    "print(names)\n",
    "names[1] = \"Chandra Sai\" #by using index we can change the element or value in the index\n",
    "print(names)\n",
    "\n",
    "names[1:4] = [\"Hari\", \"Ram\", \"Abhi\"]  #if we give more eles than the range the new ele replaces the oldones in that place\n",
    "print(names)\n",
    "\n",
    "\n",
    "# insert(index, value_to_be_insert)\n",
    "names.insert(len(names), \"Subbhu\")\n",
    "print(names)\n",
    "names.insert(2, \"Sahith\")\n",
    "print(names)\n",
    "\n",
    "# lst.append(value):  it appends the values at the end of the list\n",
    "names.append([\"Gopi\", \"Balu\"])\n",
    "print(names)\n",
    "\n",
    "# + or .extend() : to concatinate two lists \n",
    "lst3 = lst1+lst2\n",
    "print(lst3)\n",
    "\n",
    "lst2.extend(lst1)\n",
    "print(lst2)\n",
    "\n",
    "# .remove() : to remove the first occurance of an item in the list\n",
    "lst2.remove(\"avacado\")\n",
    "print(lst2)\n",
    "\n",
    "# .pop(index) : to remove an item from a specified index\n",
    "print(\"\\n\",names)\n",
    "names.pop(2)\n",
    "print(names)\n",
    "\n",
    "# to remove an item from an index as like pop() we can also use \"del lst[index]\"\n",
    "# and also we can \"del lst\" to del the entire list\n",
    "# del lst2\n",
    "#  to clear the contents in the list we use lst.clear()\n",
    "print(\"\\n\", lst3)\n",
    "lst3.clear()\n",
    "print(lst3)"
   ]
  },
  {
   "cell_type": "markdown",
   "id": "5332c4d9",
   "metadata": {},
   "source": [
    "### looping through the list"
   ]
  },
  {
   "cell_type": "code",
   "execution_count": 42,
   "id": "48ad23d7",
   "metadata": {},
   "outputs": [
    {
     "name": "stdout",
     "output_type": "stream",
     "text": [
      "apple\n",
      "banana\n",
      "grapes\n",
      "strawberry\n",
      "avacado\n",
      "\n",
      "0 apple\n",
      "1 banana\n",
      "2 grapes\n",
      "3 strawberry\n",
      "4 avacado\n",
      "\n",
      "apple\n",
      "banana\n",
      "grapes\n",
      "strawberry\n",
      "avacado\n"
     ]
    }
   ],
   "source": [
    "# using \"in\"\n",
    "for item in lst1:\n",
    "    print(item)\n",
    "\n",
    "print()\n",
    "# using len and range : len gives the length of the list and range makes iteration from starting to end \n",
    "for i in range(len(lst1)):\n",
    "    print(i, lst1[i])\n",
    "    \n",
    "# using list comprehension\n",
    "print()\n",
    "new_lst1 = [print(x) for x in lst1]"
   ]
  },
  {
   "cell_type": "markdown",
   "id": "31056499",
   "metadata": {},
   "source": [
    "### List comprehension\n",
    "list comprehension is the way to create a new list from the elements in the existing list "
   ]
  },
  {
   "cell_type": "code",
   "execution_count": 65,
   "id": "d2955233",
   "metadata": {},
   "outputs": [
    {
     "name": "stdout",
     "output_type": "stream",
     "text": [
      "11\n",
      "(6, 'Banana')\n",
      "(6, 'Orange')\n",
      "(10, 'Strawberry')\n",
      "(9, 'Pineapple')\n",
      "(9, 'Blueberry')\n",
      "(10, 'Watermelon')\n",
      "(6, 'Grapes')\n",
      "(11, 'Pomegranate')\n",
      "(6, 'Cherry')\n",
      "(6, 'Papaya')\n",
      "(9, 'Raspberry')\n",
      "\n",
      "APPLE\n",
      "BANANA\n",
      "MANGO\n",
      "ORANGE\n",
      "STRAWBERRY\n",
      "PINEAPPLE\n",
      "BLUEBERRY\n",
      "WATERMELON\n",
      "GRAPES\n",
      "PEACH\n",
      "KIWI\n",
      "POMEGRANATE\n",
      "CHERRY\n",
      "PAPAYA\n",
      "RASPBERRY\n"
     ]
    },
    {
     "data": {
      "text/plain": [
       "['Banana',\n",
       " 'Mango',\n",
       " 'Orange',\n",
       " 'Strawberry',\n",
       " 'Pineapple',\n",
       " 'Blueberry',\n",
       " 'Watermelon',\n",
       " 'Grapes',\n",
       " 'Peach',\n",
       " 'Kiwi',\n",
       " 'Pomegranate',\n",
       " 'Cherry',\n",
       " 'Papaya',\n",
       " 'Raspberry']"
      ]
     },
     "execution_count": 65,
     "metadata": {},
     "output_type": "execute_result"
    }
   ],
   "source": [
    "fruit_basket = [\"Apple\", \"Banana\", \"Mango\", \"Orange\", \"Strawberry\", \"Pineapple\", \"Blueberry\", \"Watermelon\", \"Grapes\", \"Peach\", \"Kiwi\", \"Pomegranate\", \"Cherry\", \"Papaya\", \"Raspberry\"]\n",
    "word_len = [(len(fruit), fruit) for fruit in fruit_basket if len(fruit)>5]\n",
    "print(len(word_len))\n",
    "[print(item) for item in word_len]\n",
    "not_apple = [item for item in fruit_basket if item != \"Apple\"]\n",
    "print()\n",
    "fruit_upper = [print(item.upper()) for item in fruit_basket]\n",
    "\n",
    "not_apple"
   ]
  },
  {
   "cell_type": "markdown",
   "id": "3cc9a3ac",
   "metadata": {},
   "source": [
    "### sort lists"
   ]
  },
  {
   "cell_type": "code",
   "execution_count": 81,
   "id": "f798822a",
   "metadata": {},
   "outputs": [
    {
     "name": "stdout",
     "output_type": "stream",
     "text": [
      "[10, 20, 30, 40, 50, 60]\n",
      "['Bheema', 'arjun', 'chandu', 'krishna']\n",
      "[60, 50, 40, 30, 20, 10]\n",
      "['krishna', 'chandu', 'arjun', 'Bheema']\n",
      "['arjun', 'Bheema', 'chandu', 'krishna']\n"
     ]
    }
   ],
   "source": [
    "# Ascending order\n",
    "nums1 = [10, 20, 30, 40, 50, 60]\n",
    "names = ['chandu', 'arjun', 'krishna', 'Bheema']\n",
    "nums1.sort()\n",
    "print(nums1)\n",
    "names.sort()\n",
    "print(names)\n",
    "\n",
    "\n",
    "# Descending order\n",
    "nums1.sort(reverse=True)\n",
    "print(nums1)\n",
    "names.sort(reverse=True)\n",
    "print(names)\n",
    "\n",
    "names.sort(key = str.lower)\n",
    "print(names)"
   ]
  },
  {
   "cell_type": "markdown",
   "id": "813167d4",
   "metadata": {},
   "source": [
    "### copy list"
   ]
  },
  {
   "cell_type": "code",
   "execution_count": 89,
   "id": "0b9981e9",
   "metadata": {},
   "outputs": [
    {
     "name": "stdout",
     "output_type": "stream",
     "text": [
      "['ABC', 'def', 123, 45.67, True]\n",
      "['ABC', 'def', 123, 45.67, True, 'Chocolate']\n",
      "['def', 123, 45.67]\n"
     ]
    }
   ],
   "source": [
    "listA = [\"ABC\", \"def\", 123, 45.67, True]\n",
    "listB = listA\n",
    "print(listB)\n",
    "\n",
    "listC = listA.copy()\n",
    "listC.append(\"Chocolate\")\n",
    "print(listC)\n",
    "\n",
    "listD = list(listC[1:-2])\n",
    "print(listD)\n"
   ]
  },
  {
   "cell_type": "markdown",
   "id": "968efd71",
   "metadata": {},
   "source": [
    "### Joining lists"
   ]
  },
  {
   "cell_type": "code",
   "execution_count": 98,
   "id": "3bd9c3bc",
   "metadata": {},
   "outputs": [
    {
     "name": "stdout",
     "output_type": "stream",
     "text": [
      "['ABC', 'def', 123, 45.67, True, 'ABC', 'def', 123, 45.67, True]\n",
      "['def', 123, 45.67, 'ABC', 'def', 123, 45.67, True, 'Chocolate', 'ABC', 'def', 123, 45.67, True, 'Chocolate', 'ABC', 'def', 123, 45.67, True, 'Chocolate']\n",
      "3\n"
     ]
    }
   ],
   "source": [
    "lst_a = listA+listB\n",
    "print(lst_a)\n",
    "lst_b=[]\n",
    "listD.extend(listC)\n",
    "lst_b.extend(listD)\n",
    "print(lst_b)\n",
    "\n",
    "# count() : return the number of specified elements in the list\n",
    "print(lst_b.count(\"ABC\"))"
   ]
  },
  {
   "cell_type": "markdown",
   "id": "2085312c",
   "metadata": {},
   "source": [
    "# TUPLE ()"
   ]
  },
  {
   "cell_type": "code",
   "execution_count": 99,
   "id": "cf03398c",
   "metadata": {},
   "outputs": [],
   "source": [
    "# Tuple is a datastructure in python\n",
    "# it is ordered and unchangable (immutable)\n",
    "# once we assigned a value or element in to a tuple we can not change or add or remove \n",
    "# elements can be accessed from the "
   ]
  },
  {
   "cell_type": "code",
   "execution_count": 152,
   "id": "0ea6089c",
   "metadata": {},
   "outputs": [
    {
     "name": "stdout",
     "output_type": "stream",
     "text": [
      "('abc', 'DEF', 123, 43.2, True)\n",
      "5\n",
      "abc\n",
      "43.2\n",
      "('DEF', 123, 43.2, True)\n",
      "('abc', 'DEF', 123, 43.2)\n"
     ]
    }
   ],
   "source": [
    "tup = (\"abc\", \"DEF\", 123, 43.2, True)\n",
    "print(tup)\n",
    "print(len(tup))\n",
    "\n",
    "# accessing tuple elements by index values\n",
    "print(tup[0])\n",
    "print(tup[-2])\n",
    "\n",
    "# range of index as like list\n",
    "print(tup[1:5])\n",
    "print(tup[-5:-1])"
   ]
  },
  {
   "cell_type": "code",
   "execution_count": 160,
   "id": "2fbeb087",
   "metadata": {},
   "outputs": [
    {
     "name": "stdout",
     "output_type": "stream",
     "text": [
      "('abc', 'DEF', 123, 43.2, True, 'appple', 'banana', 'grapes', 'orange', 'orange')\n"
     ]
    }
   ],
   "source": [
    "#  to update the values in tuple we cannot directly do that\n",
    "# first convert the tuple in to list and update the list with the value\n",
    "# then convert back the list to tuple\n",
    "#  for any changeble operation we need to convert the tuple into list and then back to tuple\n",
    "\n",
    "lst_tup = list(tup)\n",
    "lst_tup.extend([\"appple\", \"banana\", \"grapes\", \"orange\"])\n",
    "\n",
    "tup = tuple(lst_tup)\n",
    "print(tup)"
   ]
  },
  {
   "cell_type": "code",
   "execution_count": 163,
   "id": "0e35759c",
   "metadata": {},
   "outputs": [
    {
     "name": "stdout",
     "output_type": "stream",
     "text": [
      "apple   oranage   banana\n",
      "abc |  DEF |  123 43.2 True appple banana grapes orange orange\n"
     ]
    }
   ],
   "source": [
    "#  tuple unpack : assigning tuple values to different varibles\n",
    "tup1 = (\"apple\", \"oranage\", \"banana\")\n",
    "fruit1, fruit2, fruit3 = tup1\n",
    "print(fruit1, \" \", fruit2, \" \", fruit3)\n",
    "\n",
    "val1, val2, *val3 =  tup\n",
    "print(val1, \"| \", val2, \"| \", *val3)\n"
   ]
  },
  {
   "cell_type": "code",
   "execution_count": 164,
   "id": "2fb1b499",
   "metadata": {},
   "outputs": [],
   "source": [
    "# looping same as list\n",
    "# using for in \n",
    "# using range and len"
   ]
  },
  {
   "cell_type": "markdown",
   "id": "59f6319c",
   "metadata": {},
   "source": [
    "# Sets {}"
   ]
  },
  {
   "cell_type": "code",
   "execution_count": null,
   "id": "638a66d5",
   "metadata": {},
   "outputs": [],
   "source": []
  }
 ],
 "metadata": {
  "kernelspec": {
   "display_name": "Python 3 (ipykernel)",
   "language": "python",
   "name": "python3"
  },
  "language_info": {
   "codemirror_mode": {
    "name": "ipython",
    "version": 3
   },
   "file_extension": ".py",
   "mimetype": "text/x-python",
   "name": "python",
   "nbconvert_exporter": "python",
   "pygments_lexer": "ipython3",
   "version": "3.11.4"
  }
 },
 "nbformat": 4,
 "nbformat_minor": 5
}
