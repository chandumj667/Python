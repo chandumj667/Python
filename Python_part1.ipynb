{
 "cells": [
  {
   "cell_type": "raw",
   "id": "8ab0a22f",
   "metadata": {},
   "source": [
    "Intro, Syntax, Comments, Basics, Variables, Data types, Operators \n",
    "Lists, Tuples, Sets, Dictionaries\n",
    "If else, for loops, while loops \n",
    "Functions, lambda functions\n",
    "Classes objects, Inheritance, Polymorphism, Iteraters, Scope, Modules\n",
    "RegEX, String Formatting, Exceptional Handling, File Handling\n",
    "Python-mongoDB, Python-Libraries"
   ]
  },
  {
   "cell_type": "code",
   "execution_count": 1,
   "id": "c60ee036",
   "metadata": {},
   "outputs": [
    {
     "name": "stdout",
     "output_type": "stream",
     "text": [
      "Hello All, I am starting the new python course\n"
     ]
    }
   ],
   "source": [
    "#comments:  using '#' for single line comment \n",
    "\n",
    "#syntax :  python has indentation \n",
    "print(\"Hello All, I am starting the new python course\")"
   ]
  },
  {
   "cell_type": "code",
   "execution_count": 2,
   "id": "09f43b78",
   "metadata": {},
   "outputs": [
    {
     "name": "stdout",
     "output_type": "stream",
     "text": [
      "10   3.25   User   True\n",
      "10 :\t <class 'int'>\n",
      "3.25 :\t <class 'float'>\n",
      "User :\t <class 'str'>\n",
      "True :\t <class 'bool'>\n"
     ]
    }
   ],
   "source": [
    "# Variable:  Variable is a container to store the values.\n",
    "# by using variable we can easily address or access the values which is in it\n",
    "\n",
    "x = 10      #integer\n",
    "y = 3.25    #float \n",
    "z = \"User\"  #String\n",
    "a = True    #Boolean\n",
    "print(x, \" \", y, \" \", z, \" \", a)\n",
    "print(x, \":\\t\", type(x))\n",
    "print(y, \":\\t\", type(y))\n",
    "print(z, \":\\t\", type(z))\n",
    "print(a, \":\\t\", type(a))\n",
    "\n"
   ]
  },
  {
   "cell_type": "markdown",
   "id": "4b6cb734",
   "metadata": {},
   "source": [
    "# Data Types"
   ]
  },
  {
   "cell_type": "code",
   "execution_count": 3,
   "id": "aca89c67",
   "metadata": {
    "scrolled": true
   },
   "outputs": [
    {
     "name": "stdout",
     "output_type": "stream",
     "text": [
      "Mrs. Queen is <class 'str'> \n",
      "\n",
      "10 is <class 'int'> and 1.23 is <class 'float'>\n",
      "\n",
      "['apple', 'banana', 123, 24.1, True]\n",
      "this is a  <class 'list'> \n",
      "\n",
      "('Cake', 'Ice-cream', 300, 12.3, False)\n",
      "this is a  <class 'tuple'> \n",
      "\n",
      "{'first_bame': 'John', 'last_name': 'King', 'age': 24} \n",
      " this is a  <class 'dict'> \n",
      "\n",
      "{'Mazaa', 'cocacola', 'ThumpsUp'} \n",
      " this is a  <class 'set'> \n",
      "\n",
      "True is a type of  <class 'bool'>\n"
     ]
    }
   ],
   "source": [
    "\n",
    "\n",
    "# Text Type:\tstr\n",
    "name = \"Mrs. Queen\"\n",
    "print(f\"{name} is {type(name)} \\n\")\n",
    "\n",
    "# Numeric Types:\tint, float\n",
    "x = 10\n",
    "y = 1.23\n",
    "print(f\"{x} is {type(x)} and {y} is {type(y)}\\n\")\n",
    "\n",
    "\n",
    "# Sequence Types:\tlist, tuple\n",
    "lst = ['apple', 'banana', 123, 24.1, True]\n",
    "print(lst)\n",
    "print(\"this is a \", type(lst), \"\\n\")\n",
    "\n",
    "tup = ('Cake', 'Ice-cream', 300, 12.3, False)\n",
    "print(tup)\n",
    "print(\"this is a \", type(tup), \"\\n\")\n",
    "\n",
    "# Mapping Type:\tdict\n",
    "dict1 = {'first_bame': 'John', 'last_name':'King', 'age':24}\n",
    "print(dict1, \"\\n this is a \", type(dict1), \"\\n\")\n",
    "\n",
    "# Set Types:\tset\n",
    "st = {\"cocacola\", \"Mazaa\", \"ThumpsUp\"}\n",
    "print(st, \"\\n this is a \", type(st), \"\\n\")\n",
    "\n",
    "# Boolean Type:\n",
    "check = True\n",
    "print(check, \"is a type of \", type(check))"
   ]
  },
  {
   "cell_type": "code",
   "execution_count": 4,
   "id": "6d11937c",
   "metadata": {},
   "outputs": [
    {
     "name": "stdout",
     "output_type": "stream",
     "text": [
      "Hello World \n",
      " 20 \n",
      " 20.5 \n",
      " 1j \n",
      " ['apple', 'banana', 'cherry'] \n",
      " ('apple', 'banana', 'cherry') \n",
      " range(0, 6) \n",
      " {'name': 'John', 'age': 36} \n",
      " {'banana', 'apple', 'cherry'} \n",
      " frozenset({'banana', 'apple', 'cherry'}) \n",
      " True\n"
     ]
    }
   ],
   "source": [
    "# using specific datatype also said to be casting : converting to a specific type\n",
    "a = str(\"Hello World\")\n",
    "b = int(20)\n",
    "c = float(20.5)\n",
    "d = complex(1j)\n",
    "e = list((\"apple\", \"banana\", \"cherry\"))\n",
    "f = tuple((\"apple\", \"banana\", \"cherry\"))\n",
    "g = range(6)\n",
    "h = dict(name=\"John\", age=36)\n",
    "i = set((\"apple\", \"banana\", \"cherry\"))\n",
    "j = frozenset((\"apple\", \"banana\", \"cherry\"))\n",
    "k = bool(5)\n",
    "\n",
    "print( a, \"\\n\", b, \"\\n\", c, \"\\n\", d, \"\\n\", e, \"\\n\", f, \"\\n\", g, \"\\n\", h, \"\\n\", i, \"\\n\", j, \"\\n\", k)"
   ]
  },
  {
   "cell_type": "markdown",
   "id": "11378068",
   "metadata": {},
   "source": [
    "# Strings and its operations "
   ]
  },
  {
   "cell_type": "code",
   "execution_count": 5,
   "id": "715f02d6",
   "metadata": {},
   "outputs": [
    {
     "name": "stdout",
     "output_type": "stream",
     "text": [
      "We need to use quotes to define a string either it is a 'single quote' or \"double quotes\" \n",
      "\n",
      "\n",
      " code king\n",
      "\n",
      " \n",
      "when we have a multi line string \n",
      "we can define inside three quotes either double or single\n",
      "\n",
      "o\n",
      "\n",
      " - w - h - e - n -   - w - e -   - h - a - v - e -   - a -   - m - u - l - t - i -   - l - i - n - e -   - s - t - r - i - n - g -   - \n",
      " - w - e -   - c - a - n -   - d - e - f - i - n - e -   - i - n - s - i - d - e -   - t - h - r - e - e -   - q - u - o - t - e - s -   - e - i - t - h - e - r -   - d - o - u - b - l - e -   - o - r -   - s - i - n - g - l - e - \n",
      " - \n",
      " 93\n"
     ]
    }
   ],
   "source": [
    "# A string is a sequence of characters \"Hello world\" it is a string\n",
    "print(\"We need to use quotes to define a string either it is a 'single quote' or \\\"double quotes\\\" \\n\")\n",
    "\n",
    "name = \"code king\"\n",
    "print(\"\\n\", name)\n",
    "\n",
    "str = \"\"\"\n",
    "when we have a multi line string \n",
    "we can define inside three quotes either double or single\n",
    "\"\"\"\n",
    "print(\"\\n\", str)\n",
    "\n",
    "# Accessing chars from a string : we can access the chars from the string by using their index (zero - indexing)\n",
    "print(name[1])\n",
    "\n",
    "# traversing through a string usigs loop\n",
    "for char in str:\n",
    "    print(char,\"- \", end=\"\")\n",
    "\n",
    "# string length : len()\n",
    "print( \"\\n\", len(str))"
   ]
  },
  {
   "cell_type": "markdown",
   "id": "5fc96ef8",
   "metadata": {},
   "source": [
    "# String slicing"
   ]
  },
  {
   "cell_type": "code",
   "execution_count": 6,
   "id": "2141a0c9",
   "metadata": {},
   "outputs": [
    {
     "name": "stdout",
     "output_type": "stream",
     "text": [
      "lo Wor\n",
      "Hello Wo\n",
      "rld\n",
      "lo Wor\n",
      "dlroW olleH\n",
      "HloW\n"
     ]
    }
   ],
   "source": [
    "# Slicing means we can return a  range of characters form the entire string using the index values\n",
    "value = \"Hello World\"\n",
    "# variable_name[start_index : end_index+1]\n",
    "print(value[3:9])\n",
    "\n",
    "# if we didn't specify the start index then it takes the chars from the 0th index to the end_index\n",
    "print(value[:8])\n",
    "# if we didn't specify the end index then it takes from start_index to last_index\n",
    "print(value[8:])\n",
    "\n",
    "# negative indexing : if we give negative indexing for slicing it works reverse order \n",
    "print(value[-8:-2])\n",
    "\n",
    "#stepping \n",
    "# variable_name[start_index : end_index+1 : step_index_value]\n",
    "print(value[::-1]) \n",
    "print(value[0:8:2])"
   ]
  },
  {
   "cell_type": "markdown",
   "id": "955a431d",
   "metadata": {},
   "source": [
    "# Modify Strings"
   ]
  },
  {
   "cell_type": "code",
   "execution_count": 7,
   "id": "4c1c6829",
   "metadata": {},
   "outputs": [
    {
     "name": "stdout",
     "output_type": "stream",
     "text": [
      "LOREMEPSUM\n",
      "loremepsum\n",
      "Hi, all\n",
      "HI, all\n",
      "['Hi', ' all']\n",
      "Chris Hemsworth\n",
      "'CHRIS HEMSWORTH' played 'Thor' character in marvel series and his age is around 40\n"
     ]
    }
   ],
   "source": [
    "text1 = \"loremepsum\"\n",
    "\n",
    "# .uppper() : used to convert all the characters to uppercase\n",
    "uppr = text1.upper()\n",
    "print(uppr)\n",
    "\n",
    "# .lower() : used to convert all the characters to lowercase\n",
    "lwr = text1.lower()\n",
    "print(lwr)\n",
    "\n",
    "# .strip() : used to remove any white spaces from beginning or ending of the text\n",
    "text2 = \"       Hi, all        \"\n",
    "strp = text2.strip()\n",
    "print(strp)\n",
    "\n",
    "# .replace() : used to replace the char \n",
    "rplc = strp.replace('i', \"I\")\n",
    "print(rplc)\n",
    "\n",
    "# .split() : used to split the string based on a specified char\n",
    "splt = strp.split(',')\n",
    "print(splt)\n",
    "\n",
    "# String concatination\n",
    "first_name = \"Chris\"\n",
    "last_name = \"Hemsworth\"\n",
    "full_name = first_name + \" \"+last_name\n",
    "print(full_name)\n",
    "\n",
    "# string format : using f\"\" --> we can directly access the varibale or operations\n",
    "age = 40\n",
    "print(f\"'{full_name.upper()}' played 'Thor' character in marvel series and his age is around {age}\")\n",
    "\n"
   ]
  },
  {
   "cell_type": "markdown",
   "id": "4d1cdd3a",
   "metadata": {},
   "source": [
    "# Operators "
   ]
  },
  {
   "cell_type": "code",
   "execution_count": 32,
   "id": "66339bde",
   "metadata": {
    "scrolled": false
   },
   "outputs": [
    {
     "name": "stdout",
     "output_type": "stream",
     "text": [
      "ARITHMETIC OPERATORS:\n",
      "sum of \t\t10, 2 is \t12\n",
      "difference of \t10, 2 is \t8\n",
      "Product of \t10, 2 is \t20\n",
      "division of \t10, 2 is \t5.0\n",
      "modulus of \t10, 2 is \t0\n",
      "power of \t10, 2 is \t100\n",
      "floor div of \t10, 2 is \t5\n",
      "\n",
      "ASSIGNMENT OPERATORS:\n",
      "value of a is:  20\n",
      "value of a is:  28\n",
      "value of a is:  25\n",
      "value of a is:  50\n",
      "value of a is:  2500\n",
      "value of a is:  0\n",
      "\n",
      "COMPARISON OPERATORS:\n",
      "a==b: \tTrue\n",
      "a!=b: \tFalse\n",
      "a>=b: \tTrue\n",
      "a<=b: \tTrue\n",
      "a>b: \tFalse\n",
      "a<b: \tFalse\n",
      "\n",
      "LOGICAL OPERATORS:\n",
      "False\n",
      "True\n",
      "False\n",
      "\n",
      "IDENTITY OPERATORS:\n",
      "a is b: \tTrue\n",
      "a is not b: \tFalse\n",
      "\n",
      "MEMBERSHIP OPERATORS:\n",
      "10 in [10, 20, 30, 40]: \tTrue\n",
      "10 not in [10, 20, 30, 40]: \tFalse\n"
     ]
    }
   ],
   "source": [
    "# Arithmetic operators : +, -, *, /, %, **, //\n",
    "a = 10\n",
    "b = 2\n",
    "print(\"ARITHMETIC OPERATORS:\")\n",
    "print(f\"sum of \\t\\t{a}, {b} is \\t{a+b}\")\n",
    "print(f\"difference of \\t{a}, {b} is \\t{a-b}\")\n",
    "print(f\"Product of \\t{a}, {b} is \\t{a*b}\")\n",
    "print(f\"division of \\t{a}, {b} is \\t{a/b}\")\n",
    "print(f\"modulus of \\t{a}, {b} is \\t{a%b}\")\n",
    "print(f\"power of \\t{a}, {b} is \\t{a**b}\")\n",
    "print(f\"floor div of \\t{a}, {b} is \\t{a//b}\")\n",
    "\n",
    "# Assignment operators :  =, +=, -=, *=, /=, **=, %= : they assign the value to the left side variable\n",
    "print(\"\\nASSIGNMENT OPERATORS:\")\n",
    "a = 20\n",
    "print(f\"value of a is:  {a}\")\n",
    "a += 8\n",
    "print(f\"value of a is:  {a}\")\n",
    "a -= 3\n",
    "print(f\"value of a is:  {a}\")\n",
    "a *= 2\n",
    "print(f\"value of a is:  {a}\")\n",
    "a **= 2\n",
    "print(f\"value of a is:  {a}\")\n",
    "a %= 2\n",
    "print(f\"value of a is:  {a}\")\n",
    "\n",
    "# Comparison operators: ==, !=, >, <, >=, <= : they returns True or False based on the comparision\n",
    "print(\"\\nCOMPARISON OPERATORS:\")\n",
    "a = b = 20\n",
    "print(f\"a==b: \\t{a==b}\")\n",
    "print(f\"a!=b: \\t{a!=b}\")\n",
    "print(f\"a>=b: \\t{a>=b}\")\n",
    "print(f\"a<=b: \\t{a<=b}\")\n",
    "print(f\"a>b: \\t{a>b}\")\n",
    "print(f\"a<b: \\t{a<b}\")\n",
    "\n",
    "# Logical operators : and, or, not : they also returns True or False\n",
    "print(\"\\nLOGICAL OPERATORS:\")\n",
    "print(a==30 and b==20)\n",
    "print(a>=30 or b==20)\n",
    "print(not(a<=20 and b==20))\n",
    "\n",
    "# Identity operators : is, is not : they also returns True or False\n",
    "print(\"\\nIDENTITY OPERATORS:\")\n",
    "print(f\"a is b: \\t{a is b}\")\n",
    "print(f\"a is not b: \\t{a is not b}\")\n",
    "\n",
    "\n",
    "# Membership operators : in, not in : they also returns True or False\n",
    "print(\"\\nMEMBERSHIP OPERATORS:\")\n",
    "lst = [10, 20, 30, 40]\n",
    "print(f\"10 in {lst}: \\t{10 in lst}\")\n",
    "print(f\"10 not in {lst}: \\t{10 not in lst}\")\n"
   ]
  }
 ],
 "metadata": {
  "kernelspec": {
   "display_name": "Python 3 (ipykernel)",
   "language": "python",
   "name": "python3"
  },
  "language_info": {
   "codemirror_mode": {
    "name": "ipython",
    "version": 3
   },
   "file_extension": ".py",
   "mimetype": "text/x-python",
   "name": "python",
   "nbconvert_exporter": "python",
   "pygments_lexer": "ipython3",
   "version": "3.11.4"
  }
 },
 "nbformat": 4,
 "nbformat_minor": 5
}
